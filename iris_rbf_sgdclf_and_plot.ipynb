{
  "nbformat": 4,
  "nbformat_minor": 0,
  "metadata": {
    "colab": {
      "name": "iris_rbf_sgdclf_and_plot.ipynb",
      "provenance": [],
      "authorship_tag": "ABX9TyNSpwssCby4r1yryF7140yo",
      "include_colab_link": true
    },
    "kernelspec": {
      "name": "python3",
      "display_name": "Python 3"
    }
  },
  "cells": [
    {
      "cell_type": "markdown",
      "metadata": {
        "id": "view-in-github",
        "colab_type": "text"
      },
      "source": [
        "<a href=\"https://colab.research.google.com/github/yuki-tamaribuchi/stats_code_kata/blob/master/iris_rbf_sgdclf_and_plot.ipynb\" target=\"_parent\"><img src=\"https://colab.research.google.com/assets/colab-badge.svg\" alt=\"Open In Colab\"/></a>"
      ]
    },
    {
      "cell_type": "code",
      "metadata": {
        "id": "Goz_ND-rySdh"
      },
      "source": [
        "from sklearn.datasets import load_iris\n",
        "import numpy as np\n",
        "from sklearn.kernel_approximation import RBFSampler\n",
        "import matplotlib.pyplot as plt\n",
        "from mpl_toolkits.mplot3d import Axes3D\n",
        "from mlxtend.plotting import plot_decision_regions\n",
        "from sklearn.linear_model import SGDClassifier\n",
        "from sklearn.model_selection import train_test_split\n",
        "from matplotlib.colors import ListedColormap"
      ],
      "execution_count": 12,
      "outputs": []
    },
    {
      "cell_type": "code",
      "metadata": {
        "id": "YR79trSp0nhk"
      },
      "source": [
        "X,y=load_iris(True)"
      ],
      "execution_count": 2,
      "outputs": []
    },
    {
      "cell_type": "code",
      "metadata": {
        "id": "8yIDjRTT03WX"
      },
      "source": [
        "X=X[:,:2]"
      ],
      "execution_count": 3,
      "outputs": []
    },
    {
      "cell_type": "code",
      "metadata": {
        "colab": {
          "base_uri": "https://localhost:8080/",
          "height": 287
        },
        "id": "9UdSefmY1OJs",
        "outputId": "8afef06b-0ebb-44e3-980a-b1ec8b78aa86"
      },
      "source": [
        "fig=plt.figure()\n",
        "ax=fig.add_subplot(111)\n",
        "ax.scatter(X[:,0],X[:,1],c=y,cmap='winter')"
      ],
      "execution_count": 4,
      "outputs": [
        {
          "output_type": "execute_result",
          "data": {
            "text/plain": [
              "<matplotlib.collections.PathCollection at 0x7f67446dbfd0>"
            ]
          },
          "metadata": {
            "tags": []
          },
          "execution_count": 4
        },
        {
          "output_type": "display_data",
          "data": {
            "image/png": "[encoded data removed]",
            "text/plain": [
              "<Figure size 432x288 with 1 Axes>"
            ]
          },
          "metadata": {
            "tags": [],
            "needs_background": "light"
          }
        }
      ]
    },
    {
      "cell_type": "code",
      "metadata": {
        "id": "6azq0UYE1VR8"
      },
      "source": [
        "rbf_sampler=RBFSampler(random_state=0)\n",
        "X_features=rbf_sampler.fit_transform(X)"
      ],
      "execution_count": 6,
      "outputs": []
    },
    {
      "cell_type": "code",
      "metadata": {
        "id": "P2YtwCdwwXDc"
      },
      "source": [
        "X_train,X_test,y_train,y_test=train_test_split(X_features,y)"
      ],
      "execution_count": 9,
      "outputs": []
    },
    {
      "cell_type": "code",
      "metadata": {
        "colab": {
          "base_uri": "https://localhost:8080/"
        },
        "id": "ipIfb3dDu1IL",
        "outputId": "188c6105-8113-44b8-fcf6-dbf9bae40a01"
      },
      "source": [
        "sgd_clf=SGDClassifier(loss='hinge')\n",
        "sgd_clf.fit(X_train,y_train)"
      ],
      "execution_count": 10,
      "outputs": [
        {
          "output_type": "execute_result",
          "data": {
            "text/plain": [
              "SGDClassifier(alpha=0.0001, average=False, class_weight=None,\n",
              "              early_stopping=False, epsilon=0.1, eta0=0.0, fit_intercept=True,\n",
              "              l1_ratio=0.15, learning_rate='optimal', loss='hinge',\n",
              "              max_iter=1000, n_iter_no_change=5, n_jobs=None, penalty='l2',\n",
              "              power_t=0.5, random_state=None, shuffle=True, tol=0.001,\n",
              "              validation_fraction=0.1, verbose=0, warm_start=False)"
            ]
          },
          "metadata": {
            "tags": []
          },
          "execution_count": 10
        }
      ]
    },
    {
      "cell_type": "code",
      "metadata": {
        "colab": {
          "base_uri": "https://localhost:8080/"
        },
        "id": "hyz3nOEqxHcD",
        "outputId": "028a3eff-64c1-4e91-a650-d3d41926edb8"
      },
      "source": [
        "sgd_clf.score(X_test,y_test)"
      ],
      "execution_count": 11,
      "outputs": [
        {
          "output_type": "execute_result",
          "data": {
            "text/plain": [
              "0.7631578947368421"
            ]
          },
          "metadata": {
            "tags": []
          },
          "execution_count": 11
        }
      ]
    },
    {
      "cell_type": "code",
      "metadata": {
        "colab": {
          "base_uri": "https://localhost:8080/",
          "height": 284
        },
        "id": "93tvJkrhxN1x",
        "outputId": "0f9b91fd-d08d-43f1-abbe-1a756a211432"
      },
      "source": [
        "x1_min,x1_max,x2_min,x2_max=0.,8.,0.,4.5\n",
        "resolution=0.02\n",
        "xx1,xx2=np.meshgrid(np.arange(x1_min,x1_max,resolution),np.arange(x2_min,x2_max,resolution))\n",
        "X=(np.array([xx1.ravel(),xx2.ravel()]).T)\n",
        "plot_z=sgd_clf.predict(rbf_sampler.fit_transform(X))\n",
        "colors=('red','blue')\n",
        "cmap=ListedColormap(colors[:len(np.unique(plot_z))])\n",
        "plot_z=plot_z.reshape(xx1.shape)\n",
        "plt.contourf(xx1,xx2,plot_z,alpha=0.4,cmap=cmap)"
      ],
      "execution_count": 22,
      "outputs": [
        {
          "output_type": "execute_result",
          "data": {
            "text/plain": [
              "<matplotlib.contour.QuadContourSet at 0x7f67336a2908>"
            ]
          },
          "metadata": {
            "tags": []
          },
          "execution_count": 22
        },
        {
          "output_type": "display_data",
          "data": {
            "image/png": "[encoded data removed]",
            "text/plain": [
              "<Figure size 432x288 with 1 Axes>"
            ]
          },
          "metadata": {
            "tags": [],
            "needs_background": "light"
          }
        }
      ]
    },
    {
      "cell_type": "code",
      "metadata": {
        "id": "YC2PxsCezwFm"
      },
      "source": [
        ""
      ],
      "execution_count": null,
      "outputs": []
    }
  ]
}