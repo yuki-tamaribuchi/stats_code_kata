{
  "nbformat": 4,
  "nbformat_minor": 0,
  "metadata": {
    "colab": {
      "name": "kaggle_titanic_fa.ipynb",
      "provenance": [],
      "collapsed_sections": [],
      "mount_file_id": "1MqWspkX2jX943PzZ57fcV3MWSoHYncyH",
      "authorship_tag": "ABX9TyOA7GDaz4oAz6r8kyy/i8pG",
      "include_colab_link": true
    },
    "kernelspec": {
      "name": "python3",
      "display_name": "Python 3"
    }
  },
  "cells": [
    {
      "cell_type": "markdown",
      "metadata": {
        "id": "view-in-github",
        "colab_type": "text"
      },
      "source": [
        "<a href=\"https://colab.research.google.com/github/yuki-tamaribuchi/stats_code_kata/blob/master/kaggle_titanic_fa.ipynb\" target=\"_parent\"><img src=\"https://colab.research.google.com/assets/colab-badge.svg\" alt=\"Open In Colab\"/></a>"
      ]
    },
    {
      "cell_type": "code",
      "metadata": {
        "id": "ZqO9sh7KOOuA"
      },
      "source": [
        "!mkdir /root/.kaggle\n",
        "!cp drive/'My Drive'/kaggle.json /root/.kaggle/kaggle.json"
      ],
      "execution_count": 1,
      "outputs": []
    },
    {
      "cell_type": "code",
      "metadata": {
        "colab": {
          "base_uri": "https://localhost:8080/"
        },
        "id": "51Ljt9QlMcu2",
        "outputId": "69924d19-c3d4-4a9a-9b07-64ecc3f1d204"
      },
      "source": [
        "!kaggle competitions download -c titanic"
      ],
      "execution_count": 2,
      "outputs": [
        {
          "output_type": "stream",
          "text": [
            "Warning: Looks like you're using an outdated API Version, please consider updating (server 1.5.10 / client 1.5.4)\n",
            "Downloading test.csv to /content\n",
            "  0% 0.00/28.0k [00:00<?, ?B/s]\n",
            "100% 28.0k/28.0k [00:00<00:00, 34.3MB/s]\n",
            "Downloading gender_submission.csv to /content\n",
            "  0% 0.00/3.18k [00:00<?, ?B/s]\n",
            "100% 3.18k/3.18k [00:00<00:00, 3.28MB/s]\n",
            "Downloading train.csv to /content\n",
            "  0% 0.00/59.8k [00:00<?, ?B/s]\n",
            "100% 59.8k/59.8k [00:00<00:00, 17.4MB/s]\n"
          ],
          "name": "stdout"
        }
      ]
    },
    {
      "cell_type": "code",
      "metadata": {
        "id": "pCPg7D0iOvBP"
      },
      "source": [
        "import numpy as np\n",
        "import pandas as pd\n",
        "import sklearn\n",
        "from sklearn.model_selection import train_test_split\n",
        "pd.options.display.float_format = '{:.10f}'.format"
      ],
      "execution_count": 38,
      "outputs": []
    },
    {
      "cell_type": "code",
      "metadata": {
        "id": "JFmm8KTYO6Dn"
      },
      "source": [
        "train_df=pd.read_csv('train.csv')\n",
        "test_df=pd.read_csv('test.csv')"
      ],
      "execution_count": 4,
      "outputs": []
    },
    {
      "cell_type": "code",
      "metadata": {
        "colab": {
          "base_uri": "https://localhost:8080/",
          "height": 504
        },
        "id": "vgh7WttCPCRm",
        "outputId": "701cbd09-ef7f-4603-a245-4da9977ff441"
      },
      "source": [
        "train_df.head()"
      ],
      "execution_count": 5,
      "outputs": [
        {
          "output_type": "execute_result",
          "data": {
            "text/html": [
              "<div>\n",
              "<style scoped>\n",
              "    .dataframe tbody tr th:only-of-type {\n",
              "        vertical-align: middle;\n",
              "    }\n",
              "\n",
              "    .dataframe tbody tr th {\n",
              "        vertical-align: top;\n",
              "    }\n",
              "\n",
              "    .dataframe thead th {\n",
              "        text-align: right;\n",
              "    }\n",
              "</style>\n",
              "<table border=\"1\" class=\"dataframe\">\n",
              "  <thead>\n",
              "    <tr style=\"text-align: right;\">\n",
              "      <th></th>\n",
              "      <th>PassengerId</th>\n",
              "      <th>Survived</th>\n",
              "      <th>Pclass</th>\n",
              "      <th>Name</th>\n",
              "      <th>Sex</th>\n",
              "      <th>Age</th>\n",
              "      <th>SibSp</th>\n",
              "      <th>Parch</th>\n",
              "      <th>Ticket</th>\n",
              "      <th>Fare</th>\n",
              "      <th>Cabin</th>\n",
              "      <th>Embarked</th>\n",
              "    </tr>\n",
              "  </thead>\n",
              "  <tbody>\n",
              "    <tr>\n",
              "      <th>0</th>\n",
              "      <td>1</td>\n",
              "      <td>0</td>\n",
              "      <td>3</td>\n",
              "      <td>Braund, Mr. Owen Harris</td>\n",
              "      <td>male</td>\n",
              "      <td>22.0</td>\n",
              "      <td>1</td>\n",
              "      <td>0</td>\n",
              "      <td>A/5 21171</td>\n",
              "      <td>7.2500</td>\n",
              "      <td>NaN</td>\n",
              "      <td>S</td>\n",
              "    </tr>\n",
              "    <tr>\n",
              "      <th>1</th>\n",
              "      <td>2</td>\n",
              "      <td>1</td>\n",
              "      <td>1</td>\n",
              "      <td>Cumings, Mrs. John Bradley (Florence Briggs Th...</td>\n",
              "      <td>female</td>\n",
              "      <td>38.0</td>\n",
              "      <td>1</td>\n",
              "      <td>0</td>\n",
              "      <td>PC 17599</td>\n",
              "      <td>71.2833</td>\n",
              "      <td>C85</td>\n",
              "      <td>C</td>\n",
              "    </tr>\n",
              "    <tr>\n",
              "      <th>2</th>\n",
              "      <td>3</td>\n",
              "      <td>1</td>\n",
              "      <td>3</td>\n",
              "      <td>Heikkinen, Miss. Laina</td>\n",
              "      <td>female</td>\n",
              "      <td>26.0</td>\n",
              "      <td>0</td>\n",
              "      <td>0</td>\n",
              "      <td>STON/O2. 3101282</td>\n",
              "      <td>7.9250</td>\n",
              "      <td>NaN</td>\n",
              "      <td>S</td>\n",
              "    </tr>\n",
              "    <tr>\n",
              "      <th>3</th>\n",
              "      <td>4</td>\n",
              "      <td>1</td>\n",
              "      <td>1</td>\n",
              "      <td>Futrelle, Mrs. Jacques Heath (Lily May Peel)</td>\n",
              "      <td>female</td>\n",
              "      <td>35.0</td>\n",
              "      <td>1</td>\n",
              "      <td>0</td>\n",
              "      <td>113803</td>\n",
              "      <td>53.1000</td>\n",
              "      <td>C123</td>\n",
              "      <td>S</td>\n",
              "    </tr>\n",
              "    <tr>\n",
              "      <th>4</th>\n",
              "      <td>5</td>\n",
              "      <td>0</td>\n",
              "      <td>3</td>\n",
              "      <td>Allen, Mr. William Henry</td>\n",
              "      <td>male</td>\n",
              "      <td>35.0</td>\n",
              "      <td>0</td>\n",
              "      <td>0</td>\n",
              "      <td>373450</td>\n",
              "      <td>8.0500</td>\n",
              "      <td>NaN</td>\n",
              "      <td>S</td>\n",
              "    </tr>\n",
              "  </tbody>\n",
              "</table>\n",
              "</div>"
            ],
            "text/plain": [
              "   PassengerId  Survived  Pclass  ...     Fare Cabin  Embarked\n",
              "0            1         0       3  ...   7.2500   NaN         S\n",
              "1            2         1       1  ...  71.2833   C85         C\n",
              "2            3         1       3  ...   7.9250   NaN         S\n",
              "3            4         1       1  ...  53.1000  C123         S\n",
              "4            5         0       3  ...   8.0500   NaN         S\n",
              "\n",
              "[5 rows x 12 columns]"
            ]
          },
          "metadata": {
            "tags": []
          },
          "execution_count": 5
        }
      ]
    },
    {
      "cell_type": "code",
      "metadata": {
        "id": "h68isshAdJ7e",
        "colab": {
          "base_uri": "https://localhost:8080/"
        },
        "outputId": "9202ddfe-fe05-471d-b2b4-fd9c83c28239"
      },
      "source": [
        "train_df.isnull().sum()"
      ],
      "execution_count": 6,
      "outputs": [
        {
          "output_type": "execute_result",
          "data": {
            "text/plain": [
              "PassengerId      0\n",
              "Survived         0\n",
              "Pclass           0\n",
              "Name             0\n",
              "Sex              0\n",
              "Age            177\n",
              "SibSp            0\n",
              "Parch            0\n",
              "Ticket           0\n",
              "Fare             0\n",
              "Cabin          687\n",
              "Embarked         2\n",
              "dtype: int64"
            ]
          },
          "metadata": {
            "tags": []
          },
          "execution_count": 6
        }
      ]
    },
    {
      "cell_type": "code",
      "metadata": {
        "id": "2fKrnAhqPE_K"
      },
      "source": [
        "sex_dummy=pd.get_dummies(train_df['Sex'])\n",
        "pclass_dummy=pd.get_dummies(train_df['Pclass'],prefix='Pclass')\n",
        "embarked_dummy=pd.get_dummies(train_df['Embarked'],prefix='Emb')\n",
        "\n",
        "train_df=train_df.drop(['Ticket','Cabin','Name','Sex','Pclass','Embarked','Cabin','PassengerId'],axis=1)\n",
        "train_df=pd.concat([train_df,sex_dummy,pclass_dummy,embarked_dummy],axis=1)\n",
        "\n",
        "train_df['Age']=train_df['Age'].fillna(train_df['Age'].mean())"
      ],
      "execution_count": 7,
      "outputs": []
    },
    {
      "cell_type": "code",
      "metadata": {
        "id": "2BXtLzckgrwC",
        "colab": {
          "base_uri": "https://localhost:8080/"
        },
        "outputId": "b979b45d-9625-4b14-f5fc-dabc7deb5caf"
      },
      "source": [
        "train_df.isnull().sum()"
      ],
      "execution_count": 8,
      "outputs": [
        {
          "output_type": "execute_result",
          "data": {
            "text/plain": [
              "Survived    0\n",
              "Age         0\n",
              "SibSp       0\n",
              "Parch       0\n",
              "Fare        0\n",
              "female      0\n",
              "male        0\n",
              "Pclass_1    0\n",
              "Pclass_2    0\n",
              "Pclass_3    0\n",
              "Emb_C       0\n",
              "Emb_Q       0\n",
              "Emb_S       0\n",
              "dtype: int64"
            ]
          },
          "metadata": {
            "tags": []
          },
          "execution_count": 8
        }
      ]
    },
    {
      "cell_type": "code",
      "metadata": {
        "id": "sxZuSYuyeiK8"
      },
      "source": [
        "y_train_df=train_df['Survived']\n",
        "X_train_df=train_df.drop(['Survived'],axis=1)"
      ],
      "execution_count": 9,
      "outputs": []
    },
    {
      "cell_type": "code",
      "metadata": {
        "id": "eIFAyJ5PhyYG",
        "colab": {
          "base_uri": "https://localhost:8080/"
        },
        "outputId": "acffebd1-88bb-41a8-c67c-dc6ca49828c3"
      },
      "source": [
        "test_df.isnull().sum()"
      ],
      "execution_count": 10,
      "outputs": [
        {
          "output_type": "execute_result",
          "data": {
            "text/plain": [
              "PassengerId      0\n",
              "Pclass           0\n",
              "Name             0\n",
              "Sex              0\n",
              "Age             86\n",
              "SibSp            0\n",
              "Parch            0\n",
              "Ticket           0\n",
              "Fare             1\n",
              "Cabin          327\n",
              "Embarked         0\n",
              "dtype: int64"
            ]
          },
          "metadata": {
            "tags": []
          },
          "execution_count": 10
        }
      ]
    },
    {
      "cell_type": "code",
      "metadata": {
        "id": "1_7TkelNZjUv"
      },
      "source": [
        "sex_dummy=pd.get_dummies(test_df['Sex'])\n",
        "pclass_dummy=pd.get_dummies(test_df['Pclass'],prefix='Pclass')\n",
        "embarked_dummy=pd.get_dummies(test_df['Embarked'],prefix='Emb')\n",
        "\n",
        "test_df=test_df.drop(['Ticket','Cabin','Name','Sex','Pclass','Embarked','Cabin','PassengerId'],axis=1)\n",
        "test_df=pd.concat([test_df,sex_dummy,pclass_dummy,embarked_dummy],axis=1)\n",
        "\n",
        "test_df['Age']=test_df['Age'].fillna(test_df['Age'].mean())\n",
        "test_df['Fare']=test_df['Fare'].fillna(test_df['Fare'].mean())\n",
        "\n",
        "X_test=test_df"
      ],
      "execution_count": 11,
      "outputs": []
    },
    {
      "cell_type": "code",
      "metadata": {
        "colab": {
          "base_uri": "https://localhost:8080/"
        },
        "id": "_p_3cxdW07nL",
        "outputId": "82229d25-94cb-4e6c-d4e4-1c83c913d6fb"
      },
      "source": [
        "X_test.isnull().sum()"
      ],
      "execution_count": 12,
      "outputs": [
        {
          "output_type": "execute_result",
          "data": {
            "text/plain": [
              "Age         0\n",
              "SibSp       0\n",
              "Parch       0\n",
              "Fare        0\n",
              "female      0\n",
              "male        0\n",
              "Pclass_1    0\n",
              "Pclass_2    0\n",
              "Pclass_3    0\n",
              "Emb_C       0\n",
              "Emb_Q       0\n",
              "Emb_S       0\n",
              "dtype: int64"
            ]
          },
          "metadata": {
            "tags": []
          },
          "execution_count": 12
        }
      ]
    },
    {
      "cell_type": "code",
      "metadata": {
        "id": "U5x3TgI7gjQF"
      },
      "source": [
        "from sklearn.preprocessing import StandardScaler\n",
        "\n",
        "scaler=StandardScaler()\n",
        "scaled_X_train_df=pd.DataFrame(scaler.fit_transform(X_train_df),columns=X_train_df.columns)"
      ],
      "execution_count": 15,
      "outputs": []
    },
    {
      "cell_type": "code",
      "metadata": {
        "colab": {
          "base_uri": "https://localhost:8080/",
          "height": 444
        },
        "id": "dNsgyHHNg-vw",
        "outputId": "3c894161-26b6-4861-c43a-0e808692e5e2"
      },
      "source": [
        "scaled_X_train_df"
      ],
      "execution_count": 16,
      "outputs": [
        {
          "output_type": "execute_result",
          "data": {
            "text/html": [
              "<div>\n",
              "<style scoped>\n",
              "    .dataframe tbody tr th:only-of-type {\n",
              "        vertical-align: middle;\n",
              "    }\n",
              "\n",
              "    .dataframe tbody tr th {\n",
              "        vertical-align: top;\n",
              "    }\n",
              "\n",
              "    .dataframe thead th {\n",
              "        text-align: right;\n",
              "    }\n",
              "</style>\n",
              "<table border=\"1\" class=\"dataframe\">\n",
              "  <thead>\n",
              "    <tr style=\"text-align: right;\">\n",
              "      <th></th>\n",
              "      <th>Age</th>\n",
              "      <th>SibSp</th>\n",
              "      <th>Parch</th>\n",
              "      <th>Fare</th>\n",
              "      <th>female</th>\n",
              "      <th>male</th>\n",
              "      <th>Pclass_1</th>\n",
              "      <th>Pclass_2</th>\n",
              "      <th>Pclass_3</th>\n",
              "      <th>Emb_C</th>\n",
              "      <th>Emb_Q</th>\n",
              "      <th>Emb_S</th>\n",
              "    </tr>\n",
              "  </thead>\n",
              "  <tbody>\n",
              "    <tr>\n",
              "      <th>0</th>\n",
              "      <td>-0.592481</td>\n",
              "      <td>0.432793</td>\n",
              "      <td>-0.473674</td>\n",
              "      <td>-0.502445</td>\n",
              "      <td>-0.737695</td>\n",
              "      <td>0.737695</td>\n",
              "      <td>-0.565685</td>\n",
              "      <td>-0.510152</td>\n",
              "      <td>0.902587</td>\n",
              "      <td>-0.482043</td>\n",
              "      <td>-0.307562</td>\n",
              "      <td>0.619306</td>\n",
              "    </tr>\n",
              "    <tr>\n",
              "      <th>1</th>\n",
              "      <td>0.638789</td>\n",
              "      <td>0.432793</td>\n",
              "      <td>-0.473674</td>\n",
              "      <td>0.786845</td>\n",
              "      <td>1.355574</td>\n",
              "      <td>-1.355574</td>\n",
              "      <td>1.767767</td>\n",
              "      <td>-0.510152</td>\n",
              "      <td>-1.107926</td>\n",
              "      <td>2.074505</td>\n",
              "      <td>-0.307562</td>\n",
              "      <td>-1.614710</td>\n",
              "    </tr>\n",
              "    <tr>\n",
              "      <th>2</th>\n",
              "      <td>-0.284663</td>\n",
              "      <td>-0.474545</td>\n",
              "      <td>-0.473674</td>\n",
              "      <td>-0.488854</td>\n",
              "      <td>1.355574</td>\n",
              "      <td>-1.355574</td>\n",
              "      <td>-0.565685</td>\n",
              "      <td>-0.510152</td>\n",
              "      <td>0.902587</td>\n",
              "      <td>-0.482043</td>\n",
              "      <td>-0.307562</td>\n",
              "      <td>0.619306</td>\n",
              "    </tr>\n",
              "    <tr>\n",
              "      <th>3</th>\n",
              "      <td>0.407926</td>\n",
              "      <td>0.432793</td>\n",
              "      <td>-0.473674</td>\n",
              "      <td>0.420730</td>\n",
              "      <td>1.355574</td>\n",
              "      <td>-1.355574</td>\n",
              "      <td>1.767767</td>\n",
              "      <td>-0.510152</td>\n",
              "      <td>-1.107926</td>\n",
              "      <td>-0.482043</td>\n",
              "      <td>-0.307562</td>\n",
              "      <td>0.619306</td>\n",
              "    </tr>\n",
              "    <tr>\n",
              "      <th>4</th>\n",
              "      <td>0.407926</td>\n",
              "      <td>-0.474545</td>\n",
              "      <td>-0.473674</td>\n",
              "      <td>-0.486337</td>\n",
              "      <td>-0.737695</td>\n",
              "      <td>0.737695</td>\n",
              "      <td>-0.565685</td>\n",
              "      <td>-0.510152</td>\n",
              "      <td>0.902587</td>\n",
              "      <td>-0.482043</td>\n",
              "      <td>-0.307562</td>\n",
              "      <td>0.619306</td>\n",
              "    </tr>\n",
              "    <tr>\n",
              "      <th>...</th>\n",
              "      <td>...</td>\n",
              "      <td>...</td>\n",
              "      <td>...</td>\n",
              "      <td>...</td>\n",
              "      <td>...</td>\n",
              "      <td>...</td>\n",
              "      <td>...</td>\n",
              "      <td>...</td>\n",
              "      <td>...</td>\n",
              "      <td>...</td>\n",
              "      <td>...</td>\n",
              "      <td>...</td>\n",
              "    </tr>\n",
              "    <tr>\n",
              "      <th>886</th>\n",
              "      <td>-0.207709</td>\n",
              "      <td>-0.474545</td>\n",
              "      <td>-0.473674</td>\n",
              "      <td>-0.386671</td>\n",
              "      <td>-0.737695</td>\n",
              "      <td>0.737695</td>\n",
              "      <td>-0.565685</td>\n",
              "      <td>1.960202</td>\n",
              "      <td>-1.107926</td>\n",
              "      <td>-0.482043</td>\n",
              "      <td>-0.307562</td>\n",
              "      <td>0.619306</td>\n",
              "    </tr>\n",
              "    <tr>\n",
              "      <th>887</th>\n",
              "      <td>-0.823344</td>\n",
              "      <td>-0.474545</td>\n",
              "      <td>-0.473674</td>\n",
              "      <td>-0.044381</td>\n",
              "      <td>1.355574</td>\n",
              "      <td>-1.355574</td>\n",
              "      <td>1.767767</td>\n",
              "      <td>-0.510152</td>\n",
              "      <td>-1.107926</td>\n",
              "      <td>-0.482043</td>\n",
              "      <td>-0.307562</td>\n",
              "      <td>0.619306</td>\n",
              "    </tr>\n",
              "    <tr>\n",
              "      <th>888</th>\n",
              "      <td>0.000000</td>\n",
              "      <td>0.432793</td>\n",
              "      <td>2.008933</td>\n",
              "      <td>-0.176263</td>\n",
              "      <td>1.355574</td>\n",
              "      <td>-1.355574</td>\n",
              "      <td>-0.565685</td>\n",
              "      <td>-0.510152</td>\n",
              "      <td>0.902587</td>\n",
              "      <td>-0.482043</td>\n",
              "      <td>-0.307562</td>\n",
              "      <td>0.619306</td>\n",
              "    </tr>\n",
              "    <tr>\n",
              "      <th>889</th>\n",
              "      <td>-0.284663</td>\n",
              "      <td>-0.474545</td>\n",
              "      <td>-0.473674</td>\n",
              "      <td>-0.044381</td>\n",
              "      <td>-0.737695</td>\n",
              "      <td>0.737695</td>\n",
              "      <td>1.767767</td>\n",
              "      <td>-0.510152</td>\n",
              "      <td>-1.107926</td>\n",
              "      <td>2.074505</td>\n",
              "      <td>-0.307562</td>\n",
              "      <td>-1.614710</td>\n",
              "    </tr>\n",
              "    <tr>\n",
              "      <th>890</th>\n",
              "      <td>0.177063</td>\n",
              "      <td>-0.474545</td>\n",
              "      <td>-0.473674</td>\n",
              "      <td>-0.492378</td>\n",
              "      <td>-0.737695</td>\n",
              "      <td>0.737695</td>\n",
              "      <td>-0.565685</td>\n",
              "      <td>-0.510152</td>\n",
              "      <td>0.902587</td>\n",
              "      <td>-0.482043</td>\n",
              "      <td>3.251373</td>\n",
              "      <td>-1.614710</td>\n",
              "    </tr>\n",
              "  </tbody>\n",
              "</table>\n",
              "<p>891 rows × 12 columns</p>\n",
              "</div>"
            ],
            "text/plain": [
              "          Age     SibSp     Parch  ...     Emb_C     Emb_Q     Emb_S\n",
              "0   -0.592481  0.432793 -0.473674  ... -0.482043 -0.307562  0.619306\n",
              "1    0.638789  0.432793 -0.473674  ...  2.074505 -0.307562 -1.614710\n",
              "2   -0.284663 -0.474545 -0.473674  ... -0.482043 -0.307562  0.619306\n",
              "3    0.407926  0.432793 -0.473674  ... -0.482043 -0.307562  0.619306\n",
              "4    0.407926 -0.474545 -0.473674  ... -0.482043 -0.307562  0.619306\n",
              "..        ...       ...       ...  ...       ...       ...       ...\n",
              "886 -0.207709 -0.474545 -0.473674  ... -0.482043 -0.307562  0.619306\n",
              "887 -0.823344 -0.474545 -0.473674  ... -0.482043 -0.307562  0.619306\n",
              "888  0.000000  0.432793  2.008933  ... -0.482043 -0.307562  0.619306\n",
              "889 -0.284663 -0.474545 -0.473674  ...  2.074505 -0.307562 -1.614710\n",
              "890  0.177063 -0.474545 -0.473674  ... -0.482043  3.251373 -1.614710\n",
              "\n",
              "[891 rows x 12 columns]"
            ]
          },
          "metadata": {
            "tags": []
          },
          "execution_count": 16
        }
      ]
    },
    {
      "cell_type": "code",
      "metadata": {
        "id": "F994hXBFg_eU"
      },
      "source": [
        "from sklearn.decomposition import FactorAnalysis as FA"
      ],
      "execution_count": 17,
      "outputs": []
    },
    {
      "cell_type": "code",
      "metadata": {
        "id": "LLvanlP8hQAJ"
      },
      "source": [
        "fa=FA(n_components=3)\n",
        "fa_X_train_df=pd.DataFrame(fa.fit_transform(scaled_X_train_df))"
      ],
      "execution_count": 28,
      "outputs": []
    },
    {
      "cell_type": "code",
      "metadata": {
        "colab": {
          "base_uri": "https://localhost:8080/",
          "height": 424
        },
        "id": "REuu0vjJhkfe",
        "outputId": "679aa688-c917-424a-fb3a-7503573e2bb5"
      },
      "source": [
        "fa_X_train_df"
      ],
      "execution_count": 29,
      "outputs": [
        {
          "output_type": "execute_result",
          "data": {
            "text/html": [
              "<div>\n",
              "<style scoped>\n",
              "    .dataframe tbody tr th:only-of-type {\n",
              "        vertical-align: middle;\n",
              "    }\n",
              "\n",
              "    .dataframe tbody tr th {\n",
              "        vertical-align: top;\n",
              "    }\n",
              "\n",
              "    .dataframe thead th {\n",
              "        text-align: right;\n",
              "    }\n",
              "</style>\n",
              "<table border=\"1\" class=\"dataframe\">\n",
              "  <thead>\n",
              "    <tr style=\"text-align: right;\">\n",
              "      <th></th>\n",
              "      <th>0</th>\n",
              "      <th>1</th>\n",
              "      <th>2</th>\n",
              "    </tr>\n",
              "  </thead>\n",
              "  <tbody>\n",
              "    <tr>\n",
              "      <th>0</th>\n",
              "      <td>-0.737695</td>\n",
              "      <td>-0.530382</td>\n",
              "      <td>-0.518338</td>\n",
              "    </tr>\n",
              "    <tr>\n",
              "      <th>1</th>\n",
              "      <td>1.355574</td>\n",
              "      <td>1.478479</td>\n",
              "      <td>1.293514</td>\n",
              "    </tr>\n",
              "    <tr>\n",
              "      <th>2</th>\n",
              "      <td>1.355574</td>\n",
              "      <td>-0.792122</td>\n",
              "      <td>-0.686352</td>\n",
              "    </tr>\n",
              "    <tr>\n",
              "      <th>3</th>\n",
              "      <td>1.355574</td>\n",
              "      <td>-0.767163</td>\n",
              "      <td>1.271289</td>\n",
              "    </tr>\n",
              "    <tr>\n",
              "      <th>4</th>\n",
              "      <td>-0.737695</td>\n",
              "      <td>-0.528366</td>\n",
              "      <td>-0.443233</td>\n",
              "    </tr>\n",
              "    <tr>\n",
              "      <th>...</th>\n",
              "      <td>...</td>\n",
              "      <td>...</td>\n",
              "      <td>...</td>\n",
              "    </tr>\n",
              "    <tr>\n",
              "      <th>886</th>\n",
              "      <td>-0.737695</td>\n",
              "      <td>-0.537634</td>\n",
              "      <td>0.054288</td>\n",
              "    </tr>\n",
              "    <tr>\n",
              "      <th>887</th>\n",
              "      <td>1.355574</td>\n",
              "      <td>-0.768725</td>\n",
              "      <td>1.118834</td>\n",
              "    </tr>\n",
              "    <tr>\n",
              "      <th>888</th>\n",
              "      <td>1.355574</td>\n",
              "      <td>-0.795675</td>\n",
              "      <td>-0.619216</td>\n",
              "    </tr>\n",
              "    <tr>\n",
              "      <th>889</th>\n",
              "      <td>-0.737695</td>\n",
              "      <td>1.738897</td>\n",
              "      <td>1.294759</td>\n",
              "    </tr>\n",
              "    <tr>\n",
              "      <th>890</th>\n",
              "      <td>-0.737695</td>\n",
              "      <td>1.663781</td>\n",
              "      <td>-1.211932</td>\n",
              "    </tr>\n",
              "  </tbody>\n",
              "</table>\n",
              "<p>891 rows × 3 columns</p>\n",
              "</div>"
            ],
            "text/plain": [
              "            0         1         2\n",
              "0   -0.737695 -0.530382 -0.518338\n",
              "1    1.355574  1.478479  1.293514\n",
              "2    1.355574 -0.792122 -0.686352\n",
              "3    1.355574 -0.767163  1.271289\n",
              "4   -0.737695 -0.528366 -0.443233\n",
              "..        ...       ...       ...\n",
              "886 -0.737695 -0.537634  0.054288\n",
              "887  1.355574 -0.768725  1.118834\n",
              "888  1.355574 -0.795675 -0.619216\n",
              "889 -0.737695  1.738897  1.294759\n",
              "890 -0.737695  1.663781 -1.211932\n",
              "\n",
              "[891 rows x 3 columns]"
            ]
          },
          "metadata": {
            "tags": []
          },
          "execution_count": 29
        }
      ]
    },
    {
      "cell_type": "code",
      "metadata": {
        "id": "A0ZubHFHhlXK"
      },
      "source": [
        "import matplotlib.pyplot as plt"
      ],
      "execution_count": 30,
      "outputs": []
    },
    {
      "cell_type": "code",
      "metadata": {
        "colab": {
          "base_uri": "https://localhost:8080/",
          "height": 284
        },
        "id": "BZsrMJexiLLE",
        "outputId": "b8fe3792-23fc-4697-f9af-00e50252164e"
      },
      "source": [
        "fig=plt.figure()\n",
        "ax=fig.add_subplot(111)\n",
        "ax.scatter(fa_X_train_df[0],fa_X_train_df[1],c=y_train_df)"
      ],
      "execution_count": 33,
      "outputs": [
        {
          "output_type": "execute_result",
          "data": {
            "text/plain": [
              "<matplotlib.collections.PathCollection at 0x7f3e153646d8>"
            ]
          },
          "metadata": {
            "tags": []
          },
          "execution_count": 33
        },
        {
          "output_type": "display_data",
          "data": {
            "image/png": "[encoded data removed]",
            "text/plain": [
              "<Figure size 432x288 with 1 Axes>"
            ]
          },
          "metadata": {
            "tags": [],
            "needs_background": "light"
          }
        }
      ]
    },
    {
      "cell_type": "code",
      "metadata": {
        "id": "xXC8Vuq8jS24"
      },
      "source": [
        "from mpl_toolkits.mplot3d import Axes3D"
      ],
      "execution_count": 34,
      "outputs": []
    },
    {
      "cell_type": "code",
      "metadata": {
        "colab": {
          "base_uri": "https://localhost:8080/",
          "height": 319
        },
        "id": "5xOezcidkQu-",
        "outputId": "d0aaa5ed-1f31-487d-cfb6-32aa0ff88bd1"
      },
      "source": [
        "fig=plt.figure()\n",
        "ax=Axes3D(fig)\n",
        "surf=ax.scatter(fa_X_train_df[0],fa_X_train_df[1],fa_X_train_df[2],c=y_train_df,cmap='winter')"
      ],
      "execution_count": 35,
      "outputs": [
        {
          "output_type": "display_data",
          "data": {
            "image/png": "[encoded data removed]",
            "text/plain": [
              "<Figure size 432x288 with 1 Axes>"
            ]
          },
          "metadata": {
            "tags": [],
            "needs_background": "light"
          }
        }
      ]
    },
    {
      "cell_type": "code",
      "metadata": {
        "colab": {
          "base_uri": "https://localhost:8080/",
          "height": 163
        },
        "id": "gSviIG_rkidy",
        "outputId": "b2f0402a-a67c-4312-bae7-ce507c6aa0c3"
      },
      "source": [
        "pd.DataFrame(fa.components_,columns=X_train_df.columns)"
      ],
      "execution_count": 42,
      "outputs": [
        {
          "output_type": "execute_result",
          "data": {
            "text/html": [
              "<div>\n",
              "<style scoped>\n",
              "    .dataframe tbody tr th:only-of-type {\n",
              "        vertical-align: middle;\n",
              "    }\n",
              "\n",
              "    .dataframe tbody tr th {\n",
              "        vertical-align: top;\n",
              "    }\n",
              "\n",
              "    .dataframe thead th {\n",
              "        text-align: right;\n",
              "    }\n",
              "</style>\n",
              "<table border=\"1\" class=\"dataframe\">\n",
              "  <thead>\n",
              "    <tr style=\"text-align: right;\">\n",
              "      <th></th>\n",
              "      <th>Age</th>\n",
              "      <th>SibSp</th>\n",
              "      <th>Parch</th>\n",
              "      <th>Fare</th>\n",
              "      <th>female</th>\n",
              "      <th>male</th>\n",
              "      <th>Pclass_1</th>\n",
              "      <th>Pclass_2</th>\n",
              "      <th>Pclass_3</th>\n",
              "      <th>Emb_C</th>\n",
              "      <th>Emb_Q</th>\n",
              "      <th>Emb_S</th>\n",
              "    </tr>\n",
              "  </thead>\n",
              "  <tbody>\n",
              "    <tr>\n",
              "      <th>0</th>\n",
              "      <td>-0.084153</td>\n",
              "      <td>0.114631</td>\n",
              "      <td>0.245489</td>\n",
              "      <td>0.182333</td>\n",
              "      <td>1.000000e+00</td>\n",
              "      <td>-1.000000e+00</td>\n",
              "      <td>0.098013</td>\n",
              "      <td>0.064746</td>\n",
              "      <td>-0.137143</td>\n",
              "      <td>0.082853</td>\n",
              "      <td>0.074115</td>\n",
              "      <td>-0.125722</td>\n",
              "    </tr>\n",
              "    <tr>\n",
              "      <th>1</th>\n",
              "      <td>0.042379</td>\n",
              "      <td>-0.087002</td>\n",
              "      <td>-0.094421</td>\n",
              "      <td>0.155513</td>\n",
              "      <td>-4.159748e-12</td>\n",
              "      <td>4.159748e-12</td>\n",
              "      <td>0.173935</td>\n",
              "      <td>-0.205960</td>\n",
              "      <td>0.017758</td>\n",
              "      <td>0.778140</td>\n",
              "      <td>0.473758</td>\n",
              "      <td>-0.984322</td>\n",
              "    </tr>\n",
              "    <tr>\n",
              "      <th>2</th>\n",
              "      <td>0.333848</td>\n",
              "      <td>-0.052013</td>\n",
              "      <td>0.004751</td>\n",
              "      <td>0.602763</td>\n",
              "      <td>-2.804862e-13</td>\n",
              "      <td>2.804399e-13</td>\n",
              "      <td>0.834630</td>\n",
              "      <td>-0.003458</td>\n",
              "      <td>-0.716306</td>\n",
              "      <td>0.248984</td>\n",
              "      <td>-0.380347</td>\n",
              "      <td>0.015857</td>\n",
              "    </tr>\n",
              "  </tbody>\n",
              "</table>\n",
              "</div>"
            ],
            "text/plain": [
              "        Age     SibSp     Parch  ...     Emb_C     Emb_Q     Emb_S\n",
              "0 -0.084153  0.114631  0.245489  ...  0.082853  0.074115 -0.125722\n",
              "1  0.042379 -0.087002 -0.094421  ...  0.778140  0.473758 -0.984322\n",
              "2  0.333848 -0.052013  0.004751  ...  0.248984 -0.380347  0.015857\n",
              "\n",
              "[3 rows x 12 columns]"
            ]
          },
          "metadata": {
            "tags": []
          },
          "execution_count": 42
        }
      ]
    }
  ]
}