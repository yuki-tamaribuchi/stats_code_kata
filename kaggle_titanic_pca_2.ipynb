{
  "nbformat": 4,
  "nbformat_minor": 0,
  "metadata": {
    "colab": {
      "name": "kaggle_titanic_pca_2.ipynb",
      "provenance": [],
      "collapsed_sections": [],
      "mount_file_id": "1QaCiqQFGOcE1XBsHYsf_uihMBiIvy4DP",
      "authorship_tag": "ABX9TyNR4bqvgT8/RO8VrLvbPZJ6",
      "include_colab_link": true
    },
    "kernelspec": {
      "name": "python3",
      "display_name": "Python 3"
    }
  },
  "cells": [
    {
      "cell_type": "markdown",
      "metadata": {
        "id": "view-in-github",
        "colab_type": "text"
      },
      "source": [
        "<a href=\"https://colab.research.google.com/github/yuki-tamaribuchi/stats_code_kata/blob/master/kaggle_titanic_pca_2.ipynb\" target=\"_parent\"><img src=\"https://colab.research.google.com/assets/colab-badge.svg\" alt=\"Open In Colab\"/></a>"
      ]
    },
    {
      "cell_type": "code",
      "metadata": {
        "id": "ZqO9sh7KOOuA",
        "colab": {
          "base_uri": "https://localhost:8080/"
        },
        "outputId": "39521918-e78b-4e72-d4cc-094f627abbe7"
      },
      "source": [
        "!mkdir /root/.kaggle\n",
        "!cp drive/'My Drive'/kaggle.json /root/.kaggle/kaggle.json"
      ],
      "execution_count": 1,
      "outputs": [
        {
          "output_type": "stream",
          "text": [
            "mkdir: cannot create directory ‘/root/.kaggle’: File exists\n"
          ],
          "name": "stdout"
        }
      ]
    },
    {
      "cell_type": "code",
      "metadata": {
        "colab": {
          "base_uri": "https://localhost:8080/"
        },
        "id": "51Ljt9QlMcu2",
        "outputId": "7476636e-819c-4c59-a4b4-b4be333a7b92"
      },
      "source": [
        "!kaggle competitions download -c titanic"
      ],
      "execution_count": 2,
      "outputs": [
        {
          "output_type": "stream",
          "text": [
            "Warning: Looks like you're using an outdated API Version, please consider updating (server 1.5.10 / client 1.5.4)\n",
            "train.csv: Skipping, found more recently modified local copy (use --force to force download)\n",
            "test.csv: Skipping, found more recently modified local copy (use --force to force download)\n",
            "gender_submission.csv: Skipping, found more recently modified local copy (use --force to force download)\n"
          ],
          "name": "stdout"
        }
      ]
    },
    {
      "cell_type": "code",
      "metadata": {
        "id": "pCPg7D0iOvBP"
      },
      "source": [
        "import numpy as np\n",
        "import pandas as pd\n",
        "import sklearn\n",
        "from sklearn.model_selection import train_test_split\n",
        "from sklearn.preprocessing import StandardScaler\n",
        "import matplotlib.pyplot as plt\n",
        "np.set_printoptions(suppress=True)\n",
        "pd.options.display.float_format = '{:.10f}'.format"
      ],
      "execution_count": 3,
      "outputs": []
    },
    {
      "cell_type": "code",
      "metadata": {
        "id": "JFmm8KTYO6Dn"
      },
      "source": [
        "train_df=pd.read_csv('train.csv')\n",
        "test_df=pd.read_csv('test.csv')"
      ],
      "execution_count": 4,
      "outputs": []
    },
    {
      "cell_type": "code",
      "metadata": {
        "id": "h68isshAdJ7e",
        "colab": {
          "base_uri": "https://localhost:8080/"
        },
        "outputId": "fdedc2d2-3341-4567-8662-5dc552a8c75e"
      },
      "source": [
        "train_df.isnull().sum()"
      ],
      "execution_count": 5,
      "outputs": [
        {
          "output_type": "execute_result",
          "data": {
            "text/plain": [
              "PassengerId      0\n",
              "Survived         0\n",
              "Pclass           0\n",
              "Name             0\n",
              "Sex              0\n",
              "Age            177\n",
              "SibSp            0\n",
              "Parch            0\n",
              "Ticket           0\n",
              "Fare             0\n",
              "Cabin          687\n",
              "Embarked         2\n",
              "dtype: int64"
            ]
          },
          "metadata": {
            "tags": []
          },
          "execution_count": 5
        }
      ]
    },
    {
      "cell_type": "code",
      "metadata": {
        "id": "2fKrnAhqPE_K"
      },
      "source": [
        "sex_dummy=pd.get_dummies(train_df['Sex'])\n",
        "pclass_dummy=pd.get_dummies(train_df['Pclass'],prefix='Pclass')\n",
        "embarked_dummy=pd.get_dummies(train_df['Embarked'],prefix='Emb')\n",
        "\n",
        "train_df=train_df.drop(['Ticket','Cabin','Name','Sex','Pclass','Embarked','Cabin','PassengerId'],axis=1)\n",
        "train_df=pd.concat([train_df,sex_dummy,pclass_dummy,embarked_dummy],axis=1)\n",
        "\n",
        "train_df['Age']=train_df['Age'].fillna(train_df['Age'].mean())\n",
        "\n",
        "scaler=StandardScaler()\n",
        "scaled_train_df=pd.DataFrame(scaler.fit_transform(train_df.iloc[:,1:]),columns=train_df.columns[1:])\n",
        "\n",
        "\n",
        "y=train_df['Survived']\n",
        "X=scaled_train_df"
      ],
      "execution_count": 6,
      "outputs": []
    },
    {
      "cell_type": "code",
      "metadata": {
        "colab": {
          "base_uri": "https://localhost:8080/"
        },
        "id": "9wQ9DaMvSOkA",
        "outputId": "62ac7e9d-1bfd-4ac2-876f-da96567e59b4"
      },
      "source": [
        "train_df.info()"
      ],
      "execution_count": 7,
      "outputs": [
        {
          "output_type": "stream",
          "text": [
            "<class 'pandas.core.frame.DataFrame'>\n",
            "RangeIndex: 891 entries, 0 to 890\n",
            "Data columns (total 13 columns):\n",
            " #   Column    Non-Null Count  Dtype  \n",
            "---  ------    --------------  -----  \n",
            " 0   Survived  891 non-null    int64  \n",
            " 1   Age       891 non-null    float64\n",
            " 2   SibSp     891 non-null    int64  \n",
            " 3   Parch     891 non-null    int64  \n",
            " 4   Fare      891 non-null    float64\n",
            " 5   female    891 non-null    uint8  \n",
            " 6   male      891 non-null    uint8  \n",
            " 7   Pclass_1  891 non-null    uint8  \n",
            " 8   Pclass_2  891 non-null    uint8  \n",
            " 9   Pclass_3  891 non-null    uint8  \n",
            " 10  Emb_C     891 non-null    uint8  \n",
            " 11  Emb_Q     891 non-null    uint8  \n",
            " 12  Emb_S     891 non-null    uint8  \n",
            "dtypes: float64(2), int64(3), uint8(8)\n",
            "memory usage: 41.9 KB\n"
          ],
          "name": "stdout"
        }
      ]
    },
    {
      "cell_type": "code",
      "metadata": {
        "id": "CGv_FGbcdr0P"
      },
      "source": [
        "X_train,X_test,y_train,y_test=train_test_split(X,y)"
      ],
      "execution_count": 8,
      "outputs": []
    },
    {
      "cell_type": "code",
      "metadata": {
        "id": "eIFAyJ5PhyYG",
        "colab": {
          "base_uri": "https://localhost:8080/"
        },
        "outputId": "f436e15b-563c-4c2c-f7bc-ee104b6b2557"
      },
      "source": [
        "test_df.isnull().sum()"
      ],
      "execution_count": 9,
      "outputs": [
        {
          "output_type": "execute_result",
          "data": {
            "text/plain": [
              "PassengerId      0\n",
              "Pclass           0\n",
              "Name             0\n",
              "Sex              0\n",
              "Age             86\n",
              "SibSp            0\n",
              "Parch            0\n",
              "Ticket           0\n",
              "Fare             1\n",
              "Cabin          327\n",
              "Embarked         0\n",
              "dtype: int64"
            ]
          },
          "metadata": {
            "tags": []
          },
          "execution_count": 9
        }
      ]
    },
    {
      "cell_type": "code",
      "metadata": {
        "id": "1_7TkelNZjUv"
      },
      "source": [
        "sex_dummy=pd.get_dummies(test_df['Sex'])\n",
        "pclass_dummy=pd.get_dummies(test_df['Pclass'],prefix='Pclass')\n",
        "embarked_dummy=pd.get_dummies(test_df['Embarked'],prefix='Emb')\n",
        "\n",
        "test_df=test_df.drop(['Ticket','Cabin','Name','Sex','Pclass','Embarked','Cabin','PassengerId'],axis=1)\n",
        "test_df=pd.concat([test_df,sex_dummy,pclass_dummy,embarked_dummy],axis=1)\n",
        "\n",
        "test_df['Age']=test_df['Age'].fillna(test_df['Age'].mean())\n",
        "test_df['Fare']=test_df['Fare'].fillna(test_df['Fare'].mean())\n",
        "\n",
        "scaled_test_df=pd.DataFrame(scaler.transform(test_df),columns=test_df.columns)\n",
        "\n",
        "X_test=test_df"
      ],
      "execution_count": 10,
      "outputs": []
    },
    {
      "cell_type": "code",
      "metadata": {
        "colab": {
          "base_uri": "https://localhost:8080/"
        },
        "id": "_p_3cxdW07nL",
        "outputId": "fda518c0-a4a1-4cec-ffab-388d20cd87da"
      },
      "source": [
        "X_test.info()"
      ],
      "execution_count": 11,
      "outputs": [
        {
          "output_type": "stream",
          "text": [
            "<class 'pandas.core.frame.DataFrame'>\n",
            "RangeIndex: 418 entries, 0 to 417\n",
            "Data columns (total 12 columns):\n",
            " #   Column    Non-Null Count  Dtype  \n",
            "---  ------    --------------  -----  \n",
            " 0   Age       418 non-null    float64\n",
            " 1   SibSp     418 non-null    int64  \n",
            " 2   Parch     418 non-null    int64  \n",
            " 3   Fare      418 non-null    float64\n",
            " 4   female    418 non-null    uint8  \n",
            " 5   male      418 non-null    uint8  \n",
            " 6   Pclass_1  418 non-null    uint8  \n",
            " 7   Pclass_2  418 non-null    uint8  \n",
            " 8   Pclass_3  418 non-null    uint8  \n",
            " 9   Emb_C     418 non-null    uint8  \n",
            " 10  Emb_Q     418 non-null    uint8  \n",
            " 11  Emb_S     418 non-null    uint8  \n",
            "dtypes: float64(2), int64(2), uint8(8)\n",
            "memory usage: 16.5 KB\n"
          ],
          "name": "stdout"
        }
      ]
    },
    {
      "cell_type": "code",
      "metadata": {
        "id": "K6U61mN31eru"
      },
      "source": [
        "from sklearn.decomposition import PCA\n",
        "import seaborn as sns"
      ],
      "execution_count": 12,
      "outputs": []
    },
    {
      "cell_type": "code",
      "metadata": {
        "id": "Hs0O_0-O2RFy"
      },
      "source": [
        "pca=PCA()\n",
        "features=pd.DataFrame(pca.fit_transform(X),columns=['PC{}'.format(x+1) for x in range(len(X.columns))])"
      ],
      "execution_count": 13,
      "outputs": []
    },
    {
      "cell_type": "code",
      "metadata": {
        "colab": {
          "base_uri": "https://localhost:8080/",
          "height": 226
        },
        "id": "a6kcrlXV2d3e",
        "outputId": "c9fb3328-028d-4d48-f8e1-6d783096624c"
      },
      "source": [
        "features.head()"
      ],
      "execution_count": 14,
      "outputs": [
        {
          "output_type": "execute_result",
          "data": {
            "text/html": [
              "<div>\n",
              "<style scoped>\n",
              "    .dataframe tbody tr th:only-of-type {\n",
              "        vertical-align: middle;\n",
              "    }\n",
              "\n",
              "    .dataframe tbody tr th {\n",
              "        vertical-align: top;\n",
              "    }\n",
              "\n",
              "    .dataframe thead th {\n",
              "        text-align: right;\n",
              "    }\n",
              "</style>\n",
              "<table border=\"1\" class=\"dataframe\">\n",
              "  <thead>\n",
              "    <tr style=\"text-align: right;\">\n",
              "      <th></th>\n",
              "      <th>PC1</th>\n",
              "      <th>PC2</th>\n",
              "      <th>PC3</th>\n",
              "      <th>PC4</th>\n",
              "      <th>PC5</th>\n",
              "      <th>PC6</th>\n",
              "      <th>PC7</th>\n",
              "      <th>PC8</th>\n",
              "      <th>PC9</th>\n",
              "      <th>PC10</th>\n",
              "      <th>PC11</th>\n",
              "      <th>PC12</th>\n",
              "    </tr>\n",
              "  </thead>\n",
              "  <tbody>\n",
              "    <tr>\n",
              "      <th>0</th>\n",
              "      <td>-1.7591049300</td>\n",
              "      <td>0.0615461581</td>\n",
              "      <td>0.1210255143</td>\n",
              "      <td>0.7952088209</td>\n",
              "      <td>-0.0825015970</td>\n",
              "      <td>-0.3730405845</td>\n",
              "      <td>-0.3296947631</td>\n",
              "      <td>-0.4541176501</td>\n",
              "      <td>0.0531156393</td>\n",
              "      <td>0.0041478474</td>\n",
              "      <td>-0.0000000000</td>\n",
              "      <td>-0.0000000000</td>\n",
              "    </tr>\n",
              "    <tr>\n",
              "      <th>1</th>\n",
              "      <td>3.6892704397</td>\n",
              "      <td>-0.4495404565</td>\n",
              "      <td>1.0255806093</td>\n",
              "      <td>-0.2784130473</td>\n",
              "      <td>0.1065440533</td>\n",
              "      <td>-0.6594256473</td>\n",
              "      <td>0.2425808557</td>\n",
              "      <td>-1.0434194120</td>\n",
              "      <td>-0.4426190863</td>\n",
              "      <td>-0.0203367220</td>\n",
              "      <td>0.0000000000</td>\n",
              "      <td>-0.0000000000</td>\n",
              "    </tr>\n",
              "    <tr>\n",
              "      <th>2</th>\n",
              "      <td>-0.2382604044</td>\n",
              "      <td>1.5376301635</td>\n",
              "      <td>-0.0324382209</td>\n",
              "      <td>-0.8933504747</td>\n",
              "      <td>-1.1485025386</td>\n",
              "      <td>-1.3813746969</td>\n",
              "      <td>-0.1105656654</td>\n",
              "      <td>-0.1757485436</td>\n",
              "      <td>0.2439636199</td>\n",
              "      <td>-0.0079246647</td>\n",
              "      <td>0.0000000000</td>\n",
              "      <td>0.0000000000</td>\n",
              "    </tr>\n",
              "    <tr>\n",
              "      <th>3</th>\n",
              "      <td>2.0341564163</td>\n",
              "      <td>0.2431522108</td>\n",
              "      <td>-1.1155438947</td>\n",
              "      <td>-0.1723957025</td>\n",
              "      <td>-1.6281013993</td>\n",
              "      <td>-0.2586565536</td>\n",
              "      <td>-0.5449609248</td>\n",
              "      <td>-0.8646968167</td>\n",
              "      <td>-0.7209147217</td>\n",
              "      <td>-0.0203975103</td>\n",
              "      <td>0.0000000000</td>\n",
              "      <td>0.0000000000</td>\n",
              "    </tr>\n",
              "    <tr>\n",
              "      <th>4</th>\n",
              "      <td>-1.6802345366</td>\n",
              "      <td>-0.5997764310</td>\n",
              "      <td>0.1084113024</td>\n",
              "      <td>0.2125707190</td>\n",
              "      <td>-0.6135183509</td>\n",
              "      <td>-0.4740755865</td>\n",
              "      <td>0.3198588364</td>\n",
              "      <td>0.0535219258</td>\n",
              "      <td>0.3163992185</td>\n",
              "      <td>-0.0001768163</td>\n",
              "      <td>-0.0000000000</td>\n",
              "      <td>0.0000000000</td>\n",
              "    </tr>\n",
              "  </tbody>\n",
              "</table>\n",
              "</div>"
            ],
            "text/plain": [
              "            PC1           PC2  ...          PC11          PC12\n",
              "0 -1.7591049300  0.0615461581  ... -0.0000000000 -0.0000000000\n",
              "1  3.6892704397 -0.4495404565  ...  0.0000000000 -0.0000000000\n",
              "2 -0.2382604044  1.5376301635  ...  0.0000000000  0.0000000000\n",
              "3  2.0341564163  0.2431522108  ...  0.0000000000  0.0000000000\n",
              "4 -1.6802345366 -0.5997764310  ... -0.0000000000  0.0000000000\n",
              "\n",
              "[5 rows x 12 columns]"
            ]
          },
          "metadata": {
            "tags": []
          },
          "execution_count": 14
        }
      ]
    },
    {
      "cell_type": "code",
      "metadata": {
        "colab": {
          "base_uri": "https://localhost:8080/",
          "height": 446
        },
        "id": "JQKNtIwR2kxh",
        "outputId": "51d0bd31-53e8-4a54-b245-94af152e6776"
      },
      "source": [
        "#固有ベクトル\n",
        "pd.DataFrame(pca.components_,index=['PC{}'.format(x+1) for x in range(len(X.columns))],columns=X.columns)"
      ],
      "execution_count": 15,
      "outputs": [
        {
          "output_type": "execute_result",
          "data": {
            "text/html": [
              "<div>\n",
              "<style scoped>\n",
              "    .dataframe tbody tr th:only-of-type {\n",
              "        vertical-align: middle;\n",
              "    }\n",
              "\n",
              "    .dataframe tbody tr th {\n",
              "        vertical-align: top;\n",
              "    }\n",
              "\n",
              "    .dataframe thead th {\n",
              "        text-align: right;\n",
              "    }\n",
              "</style>\n",
              "<table border=\"1\" class=\"dataframe\">\n",
              "  <thead>\n",
              "    <tr style=\"text-align: right;\">\n",
              "      <th></th>\n",
              "      <th>Age</th>\n",
              "      <th>SibSp</th>\n",
              "      <th>Parch</th>\n",
              "      <th>Fare</th>\n",
              "      <th>female</th>\n",
              "      <th>male</th>\n",
              "      <th>Pclass_1</th>\n",
              "      <th>Pclass_2</th>\n",
              "      <th>Pclass_3</th>\n",
              "      <th>Emb_C</th>\n",
              "      <th>Emb_Q</th>\n",
              "      <th>Emb_S</th>\n",
              "    </tr>\n",
              "  </thead>\n",
              "  <tbody>\n",
              "    <tr>\n",
              "      <th>PC1</th>\n",
              "      <td>0.1180445499</td>\n",
              "      <td>0.0508327812</td>\n",
              "      <td>0.1405458284</td>\n",
              "      <td>0.4283896965</td>\n",
              "      <td>0.3642171489</td>\n",
              "      <td>-0.3642171489</td>\n",
              "      <td>0.4342750878</td>\n",
              "      <td>-0.0065757033</td>\n",
              "      <td>-0.3688217437</td>\n",
              "      <td>0.3380814591</td>\n",
              "      <td>-0.0467261447</td>\n",
              "      <td>-0.2715739522</td>\n",
              "    </tr>\n",
              "    <tr>\n",
              "      <th>PC2</th>\n",
              "      <td>-0.3603147224</td>\n",
              "      <td>0.3299561269</td>\n",
              "      <td>0.3597910982</td>\n",
              "      <td>-0.0918476904</td>\n",
              "      <td>0.4508798575</td>\n",
              "      <td>-0.4508798575</td>\n",
              "      <td>-0.3121500503</td>\n",
              "      <td>0.0051019284</td>\n",
              "      <td>0.2647976882</td>\n",
              "      <td>-0.1673277444</td>\n",
              "      <td>0.1298322278</td>\n",
              "      <td>0.0662936654</td>\n",
              "    </tr>\n",
              "    <tr>\n",
              "      <th>PC3</th>\n",
              "      <td>-0.0726044845</td>\n",
              "      <td>-0.0673001310</td>\n",
              "      <td>-0.1230021195</td>\n",
              "      <td>-0.0648267683</td>\n",
              "      <td>-0.0456935517</td>\n",
              "      <td>0.0456935517</td>\n",
              "      <td>-0.0526667420</td>\n",
              "      <td>-0.4269852471</td>\n",
              "      <td>0.3928826593</td>\n",
              "      <td>0.3535735827</td>\n",
              "      <td>0.4184860027</td>\n",
              "      <td>-0.5719262756</td>\n",
              "    </tr>\n",
              "    <tr>\n",
              "      <th>PC4</th>\n",
              "      <td>-0.1684649068</td>\n",
              "      <td>0.4620972929</td>\n",
              "      <td>0.3728019903</td>\n",
              "      <td>0.3212111713</td>\n",
              "      <td>-0.2918377710</td>\n",
              "      <td>0.2918377710</td>\n",
              "      <td>0.2009027986</td>\n",
              "      <td>-0.4220760516</td>\n",
              "      <td>0.1704105900</td>\n",
              "      <td>0.0469941063</td>\n",
              "      <td>-0.2778628410</td>\n",
              "      <td>0.1364663176</td>\n",
              "    </tr>\n",
              "    <tr>\n",
              "      <th>PC5</th>\n",
              "      <td>-0.3855337511</td>\n",
              "      <td>0.1589329951</td>\n",
              "      <td>0.1448416425</td>\n",
              "      <td>-0.0695457281</td>\n",
              "      <td>-0.1916083993</td>\n",
              "      <td>0.1916083993</td>\n",
              "      <td>-0.2845961935</td>\n",
              "      <td>0.5277600894</td>\n",
              "      <td>-0.1843116232</td>\n",
              "      <td>0.4668860697</td>\n",
              "      <td>-0.1711394472</td>\n",
              "      <td>-0.2934160366</td>\n",
              "    </tr>\n",
              "    <tr>\n",
              "      <th>PC6</th>\n",
              "      <td>0.2077996173</td>\n",
              "      <td>0.3433999954</td>\n",
              "      <td>0.2078214232</td>\n",
              "      <td>0.1651972361</td>\n",
              "      <td>-0.1822421520</td>\n",
              "      <td>0.1822421520</td>\n",
              "      <td>0.0281674131</td>\n",
              "      <td>0.2459476642</td>\n",
              "      <td>-0.2244352971</td>\n",
              "      <td>-0.3250136788</td>\n",
              "      <td>0.6811518764</td>\n",
              "      <td>-0.1439960352</td>\n",
              "    </tr>\n",
              "    <tr>\n",
              "      <th>PC7</th>\n",
              "      <td>0.7566733844</td>\n",
              "      <td>0.1132645639</td>\n",
              "      <td>0.4138153720</td>\n",
              "      <td>-0.2891844759</td>\n",
              "      <td>0.0221929107</td>\n",
              "      <td>-0.0221929107</td>\n",
              "      <td>-0.2080744548</td>\n",
              "      <td>0.0292016904</td>\n",
              "      <td>0.1555119243</td>\n",
              "      <td>0.2187986154</td>\n",
              "      <td>-0.1935657968</td>\n",
              "      <td>-0.0713332061</td>\n",
              "    </tr>\n",
              "    <tr>\n",
              "      <th>PC8</th>\n",
              "      <td>-0.1430954743</td>\n",
              "      <td>-0.7145171820</td>\n",
              "      <td>0.6451601209</td>\n",
              "      <td>0.1542260467</td>\n",
              "      <td>-0.0783436656</td>\n",
              "      <td>0.0783436656</td>\n",
              "      <td>-0.0184030218</td>\n",
              "      <td>-0.0042737422</td>\n",
              "      <td>0.0193343418</td>\n",
              "      <td>-0.0750559369</td>\n",
              "      <td>0.1015425879</td>\n",
              "      <td>0.0045959948</td>\n",
              "    </tr>\n",
              "    <tr>\n",
              "      <th>PC9</th>\n",
              "      <td>0.1942233636</td>\n",
              "      <td>-0.0627276241</td>\n",
              "      <td>-0.2122246615</td>\n",
              "      <td>0.7490841498</td>\n",
              "      <td>0.0152791469</td>\n",
              "      <td>-0.0152791469</td>\n",
              "      <td>-0.4865078163</td>\n",
              "      <td>0.1553344813</td>\n",
              "      <td>0.2927573944</td>\n",
              "      <td>0.0114500440</td>\n",
              "      <td>-0.0637881153</td>\n",
              "      <td>0.0313636661</td>\n",
              "    </tr>\n",
              "    <tr>\n",
              "      <th>PC10</th>\n",
              "      <td>-0.0040440599</td>\n",
              "      <td>0.0003056647</td>\n",
              "      <td>0.0018693270</td>\n",
              "      <td>-0.0001004668</td>\n",
              "      <td>-0.0025197371</td>\n",
              "      <td>0.0025197371</td>\n",
              "      <td>-0.0031515883</td>\n",
              "      <td>0.0018062694</td>\n",
              "      <td>0.0012453788</td>\n",
              "      <td>-0.5943280271</td>\n",
              "      <td>-0.4283898219</td>\n",
              "      <td>-0.6805945637</td>\n",
              "    </tr>\n",
              "    <tr>\n",
              "      <th>PC11</th>\n",
              "      <td>-0.0000000000</td>\n",
              "      <td>-0.0000000000</td>\n",
              "      <td>0.0000000000</td>\n",
              "      <td>0.0000000000</td>\n",
              "      <td>0.1896058908</td>\n",
              "      <td>0.1896058908</td>\n",
              "      <td>-0.5352695133</td>\n",
              "      <td>-0.5056061698</td>\n",
              "      <td>-0.6212472628</td>\n",
              "      <td>0.0000000000</td>\n",
              "      <td>0.0000000000</td>\n",
              "      <td>0.0000000000</td>\n",
              "    </tr>\n",
              "    <tr>\n",
              "      <th>PC12</th>\n",
              "      <td>0.0000000000</td>\n",
              "      <td>-0.0000000000</td>\n",
              "      <td>0.0000000000</td>\n",
              "      <td>0.0000000000</td>\n",
              "      <td>0.6812118659</td>\n",
              "      <td>0.6812118659</td>\n",
              "      <td>0.1489848577</td>\n",
              "      <td>0.1407284767</td>\n",
              "      <td>0.1729155738</td>\n",
              "      <td>-0.0000000000</td>\n",
              "      <td>-0.0000000000</td>\n",
              "      <td>-0.0000000000</td>\n",
              "    </tr>\n",
              "  </tbody>\n",
              "</table>\n",
              "</div>"
            ],
            "text/plain": [
              "               Age         SibSp  ...         Emb_Q         Emb_S\n",
              "PC1   0.1180445499  0.0508327812  ... -0.0467261447 -0.2715739522\n",
              "PC2  -0.3603147224  0.3299561269  ...  0.1298322278  0.0662936654\n",
              "PC3  -0.0726044845 -0.0673001310  ...  0.4184860027 -0.5719262756\n",
              "PC4  -0.1684649068  0.4620972929  ... -0.2778628410  0.1364663176\n",
              "PC5  -0.3855337511  0.1589329951  ... -0.1711394472 -0.2934160366\n",
              "PC6   0.2077996173  0.3433999954  ...  0.6811518764 -0.1439960352\n",
              "PC7   0.7566733844  0.1132645639  ... -0.1935657968 -0.0713332061\n",
              "PC8  -0.1430954743 -0.7145171820  ...  0.1015425879  0.0045959948\n",
              "PC9   0.1942233636 -0.0627276241  ... -0.0637881153  0.0313636661\n",
              "PC10 -0.0040440599  0.0003056647  ... -0.4283898219 -0.6805945637\n",
              "PC11 -0.0000000000 -0.0000000000  ...  0.0000000000  0.0000000000\n",
              "PC12  0.0000000000 -0.0000000000  ... -0.0000000000 -0.0000000000\n",
              "\n",
              "[12 rows x 12 columns]"
            ]
          },
          "metadata": {
            "tags": []
          },
          "execution_count": 15
        }
      ]
    },
    {
      "cell_type": "code",
      "metadata": {
        "colab": {
          "base_uri": "https://localhost:8080/",
          "height": 426
        },
        "id": "vsW99neS39P2",
        "outputId": "9a59aca1-d398-4a42-d287-21f205fab9e8"
      },
      "source": [
        "#固有値\n",
        "pd.DataFrame(pca.explained_variance_)"
      ],
      "execution_count": 16,
      "outputs": [
        {
          "output_type": "execute_result",
          "data": {
            "text/html": [
              "<div>\n",
              "<style scoped>\n",
              "    .dataframe tbody tr th:only-of-type {\n",
              "        vertical-align: middle;\n",
              "    }\n",
              "\n",
              "    .dataframe tbody tr th {\n",
              "        vertical-align: top;\n",
              "    }\n",
              "\n",
              "    .dataframe thead th {\n",
              "        text-align: right;\n",
              "    }\n",
              "</style>\n",
              "<table border=\"1\" class=\"dataframe\">\n",
              "  <thead>\n",
              "    <tr style=\"text-align: right;\">\n",
              "      <th></th>\n",
              "      <th>0</th>\n",
              "    </tr>\n",
              "  </thead>\n",
              "  <tbody>\n",
              "    <tr>\n",
              "      <th>0</th>\n",
              "      <td>2.7166787556</td>\n",
              "    </tr>\n",
              "    <tr>\n",
              "      <th>1</th>\n",
              "      <td>2.1367298364</td>\n",
              "    </tr>\n",
              "    <tr>\n",
              "      <th>2</th>\n",
              "      <td>1.9605002310</td>\n",
              "    </tr>\n",
              "    <tr>\n",
              "      <th>3</th>\n",
              "      <td>1.4795580460</td>\n",
              "    </tr>\n",
              "    <tr>\n",
              "      <th>4</th>\n",
              "      <td>1.1245756837</td>\n",
              "    </tr>\n",
              "    <tr>\n",
              "      <th>5</th>\n",
              "      <td>0.9357687630</td>\n",
              "    </tr>\n",
              "    <tr>\n",
              "      <th>6</th>\n",
              "      <td>0.6979249722</td>\n",
              "    </tr>\n",
              "    <tr>\n",
              "      <th>7</th>\n",
              "      <td>0.5629429093</td>\n",
              "    </tr>\n",
              "    <tr>\n",
              "      <th>8</th>\n",
              "      <td>0.3936941066</td>\n",
              "    </tr>\n",
              "    <tr>\n",
              "      <th>9</th>\n",
              "      <td>0.0051098421</td>\n",
              "    </tr>\n",
              "    <tr>\n",
              "      <th>10</th>\n",
              "      <td>0.0000000000</td>\n",
              "    </tr>\n",
              "    <tr>\n",
              "      <th>11</th>\n",
              "      <td>0.0000000000</td>\n",
              "    </tr>\n",
              "  </tbody>\n",
              "</table>\n",
              "</div>"
            ],
            "text/plain": [
              "              0\n",
              "0  2.7166787556\n",
              "1  2.1367298364\n",
              "2  1.9605002310\n",
              "3  1.4795580460\n",
              "4  1.1245756837\n",
              "5  0.9357687630\n",
              "6  0.6979249722\n",
              "7  0.5629429093\n",
              "8  0.3936941066\n",
              "9  0.0051098421\n",
              "10 0.0000000000\n",
              "11 0.0000000000"
            ]
          },
          "metadata": {
            "tags": []
          },
          "execution_count": 16
        }
      ]
    },
    {
      "cell_type": "code",
      "metadata": {
        "colab": {
          "base_uri": "https://localhost:8080/",
          "height": 426
        },
        "id": "_ZTC9bIpTAm0",
        "outputId": "7a4d1472-6483-4eb8-8ff8-640392b7f440"
      },
      "source": [
        "#寄与率\n",
        "pd.DataFrame(pca.explained_variance_ratio_)"
      ],
      "execution_count": 17,
      "outputs": [
        {
          "output_type": "execute_result",
          "data": {
            "text/html": [
              "<div>\n",
              "<style scoped>\n",
              "    .dataframe tbody tr th:only-of-type {\n",
              "        vertical-align: middle;\n",
              "    }\n",
              "\n",
              "    .dataframe tbody tr th {\n",
              "        vertical-align: top;\n",
              "    }\n",
              "\n",
              "    .dataframe thead th {\n",
              "        text-align: right;\n",
              "    }\n",
              "</style>\n",
              "<table border=\"1\" class=\"dataframe\">\n",
              "  <thead>\n",
              "    <tr style=\"text-align: right;\">\n",
              "      <th></th>\n",
              "      <th>0</th>\n",
              "    </tr>\n",
              "  </thead>\n",
              "  <tbody>\n",
              "    <tr>\n",
              "      <th>0</th>\n",
              "      <td>0.2261358111</td>\n",
              "    </tr>\n",
              "    <tr>\n",
              "      <th>1</th>\n",
              "      <td>0.1778609759</td>\n",
              "    </tr>\n",
              "    <tr>\n",
              "      <th>2</th>\n",
              "      <td>0.1631916578</td>\n",
              "    </tr>\n",
              "    <tr>\n",
              "      <th>3</th>\n",
              "      <td>0.1231581239</td>\n",
              "    </tr>\n",
              "    <tr>\n",
              "      <th>4</th>\n",
              "      <td>0.0936094611</td>\n",
              "    </tr>\n",
              "    <tr>\n",
              "      <th>5</th>\n",
              "      <td>0.0778932098</td>\n",
              "    </tr>\n",
              "    <tr>\n",
              "      <th>6</th>\n",
              "      <td>0.0580951389</td>\n",
              "    </tr>\n",
              "    <tr>\n",
              "      <th>7</th>\n",
              "      <td>0.0468592583</td>\n",
              "    </tr>\n",
              "    <tr>\n",
              "      <th>8</th>\n",
              "      <td>0.0327710208</td>\n",
              "    </tr>\n",
              "    <tr>\n",
              "      <th>9</th>\n",
              "      <td>0.0004253423</td>\n",
              "    </tr>\n",
              "    <tr>\n",
              "      <th>10</th>\n",
              "      <td>0.0000000000</td>\n",
              "    </tr>\n",
              "    <tr>\n",
              "      <th>11</th>\n",
              "      <td>0.0000000000</td>\n",
              "    </tr>\n",
              "  </tbody>\n",
              "</table>\n",
              "</div>"
            ],
            "text/plain": [
              "              0\n",
              "0  0.2261358111\n",
              "1  0.1778609759\n",
              "2  0.1631916578\n",
              "3  0.1231581239\n",
              "4  0.0936094611\n",
              "5  0.0778932098\n",
              "6  0.0580951389\n",
              "7  0.0468592583\n",
              "8  0.0327710208\n",
              "9  0.0004253423\n",
              "10 0.0000000000\n",
              "11 0.0000000000"
            ]
          },
          "metadata": {
            "tags": []
          },
          "execution_count": 17
        }
      ]
    },
    {
      "cell_type": "code",
      "metadata": {
        "id": "2v4mRffsTfnN"
      },
      "source": [
        "import matplotlib.ticker as ticker"
      ],
      "execution_count": 18,
      "outputs": []
    },
    {
      "cell_type": "code",
      "metadata": {
        "colab": {
          "base_uri": "https://localhost:8080/",
          "height": 550
        },
        "id": "sL7cWjs6Vner",
        "outputId": "22381aa0-42f2-4fd3-a2a3-4b9a4530dbe9"
      },
      "source": [
        "#累積寄与率\n",
        "print(pd.DataFrame(np.cumsum(pca.explained_variance_ratio_)))\n",
        "\n",
        "plt.gca().get_xaxis().set_major_locator(ticker.MaxNLocator(integer=True))\n",
        "plt.plot([0]+list(np.cumsum(pca.explained_variance_ratio_)),'-o')\n",
        "plt.xlabel('Number of principal components')\n",
        "plt.ylabel('Cumulative contribution rate')\n",
        "plt.grid()\n",
        "plt.plot()"
      ],
      "execution_count": 19,
      "outputs": [
        {
          "output_type": "stream",
          "text": [
            "              0\n",
            "0  0.2261358111\n",
            "1  0.4039967870\n",
            "2  0.5671884449\n",
            "3  0.6903465688\n",
            "4  0.7839560299\n",
            "5  0.8618492397\n",
            "6  0.9199443786\n",
            "7  0.9668036369\n",
            "8  0.9995746577\n",
            "9  1.0000000000\n",
            "10 1.0000000000\n",
            "11 1.0000000000\n"
          ],
          "name": "stdout"
        },
        {
          "output_type": "execute_result",
          "data": {
            "text/plain": [
              "[]"
            ]
          },
          "metadata": {
            "tags": []
          },
          "execution_count": 19
        },
        {
          "output_type": "display_data",
          "data": {
            "image/png": "[encoded data removed]",
            "text/plain": [
              "<Figure size 432x288 with 1 Axes>"
            ]
          },
          "metadata": {
            "tags": [],
            "needs_background": "light"
          }
        }
      ]
    },
    {
      "cell_type": "code",
      "metadata": {
        "colab": {
          "base_uri": "https://localhost:8080/",
          "height": 388
        },
        "id": "9zaI4XytWHHc",
        "outputId": "fb5ab029-3f7d-4092-e5f6-679897fc6bb1"
      },
      "source": [
        "plt.figure(figsize=(6,6))\n",
        "for x,y,name in zip(pca.components_[0],pca.components_[1],X.columns):\n",
        "  plt.text(x,y,name)\n",
        "plt.scatter(pca.components_[0],pca.components_[1],alpha=0.8)\n",
        "plt.grid()\n",
        "plt.xlabel('PC1')\n",
        "plt.ylabel('PC2')\n",
        "plt.show()"
      ],
      "execution_count": 20,
      "outputs": [
        {
          "output_type": "display_data",
          "data": {
            "image/png": "[encoded data removed]",
            "text/plain": [
              "<Figure size 432x432 with 1 Axes>"
            ]
          },
          "metadata": {
            "tags": [],
            "needs_background": "light"
          }
        }
      ]
    },
    {
      "cell_type": "code",
      "metadata": {
        "id": "2ioc9sRtXRx_"
      },
      "source": [
        ""
      ],
      "execution_count": 20,
      "outputs": []
    }
  ]
}